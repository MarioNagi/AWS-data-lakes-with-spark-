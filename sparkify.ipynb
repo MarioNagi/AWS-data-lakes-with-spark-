{
 "cells": [
  {
   "cell_type": "code",
   "execution_count": 1,
   "id": "7ac82d02-23fc-4cb5-9fd5-ef43723210c1",
   "metadata": {
    "execution": {
     "iopub.execute_input": "2022-09-29T11:14:43.535648Z",
     "iopub.status.busy": "2022-09-29T11:14:43.535312Z",
     "iopub.status.idle": "2022-09-29T11:15:08.841595Z",
     "shell.execute_reply": "2022-09-29T11:15:08.840712Z",
     "shell.execute_reply.started": "2022-09-29T11:14:43.535618Z"
    },
    "tags": []
   },
   "outputs": [
    {
     "data": {
      "application/vnd.jupyter.widget-view+json": {
       "model_id": "ff1daf6e39264889a39fb0a32610b13a",
       "version_major": 2,
       "version_minor": 0
      },
      "text/plain": [
       "VBox()"
      ]
     },
     "metadata": {},
     "output_type": "display_data"
    },
    {
     "name": "stdout",
     "output_type": "stream",
     "text": [
      "Starting Spark application\n"
     ]
    },
    {
     "data": {
      "text/html": [
       "<table>\n",
       "<tr><th>ID</th><th>YARN Application ID</th><th>Kind</th><th>State</th><th>Spark UI</th><th>Driver log</th><th>Current session?</th></tr><tr><td>2</td><td>application_1664445079255_0003</td><td>pyspark</td><td>idle</td><td><a target=\"_blank\" href=\"http://ip-172-31-51-14.us-west-2.compute.internal:20888/proxy/application_1664445079255_0003/\">Link</a></td><td><a target=\"_blank\" href=\"http://ip-172-31-58-34.us-west-2.compute.internal:8042/node/containerlogs/container_1664445079255_0003_01_000001/livy\">Link</a></td><td>✔</td></tr></table>"
      ],
      "text/plain": [
       "<IPython.core.display.HTML object>"
      ]
     },
     "metadata": {},
     "output_type": "display_data"
    },
    {
     "data": {
      "application/vnd.jupyter.widget-view+json": {
       "model_id": "",
       "version_major": 2,
       "version_minor": 0
      },
      "text/plain": [
       "FloatProgress(value=0.0, bar_style='info', description='Progress:', layout=Layout(height='25px', width='50%'),…"
      ]
     },
     "metadata": {},
     "output_type": "display_data"
    },
    {
     "name": "stdout",
     "output_type": "stream",
     "text": [
      "SparkSession available as 'spark'.\n"
     ]
    },
    {
     "data": {
      "application/vnd.jupyter.widget-view+json": {
       "model_id": "",
       "version_major": 2,
       "version_minor": 0
      },
      "text/plain": [
       "FloatProgress(value=0.0, bar_style='info', description='Progress:', layout=Layout(height='25px', width='50%'),…"
      ]
     },
     "metadata": {},
     "output_type": "display_data"
    }
   ],
   "source": [
    "import configparser\n",
    "import os\n",
    "import pyspark.sql.functions as F\n",
    "\n",
    "from datetime import datetime\n",
    "from pyspark.sql import SparkSession\n",
    "from pyspark.sql.window import Window"
   ]
  },
  {
   "cell_type": "code",
   "execution_count": 2,
   "id": "d82eab8b-4788-4a31-b58c-515466ce283b",
   "metadata": {
    "execution": {
     "iopub.execute_input": "2022-09-29T11:15:08.846938Z",
     "iopub.status.busy": "2022-09-29T11:15:08.846631Z",
     "iopub.status.idle": "2022-09-29T11:15:09.219722Z",
     "shell.execute_reply": "2022-09-29T11:15:09.218606Z",
     "shell.execute_reply.started": "2022-09-29T11:15:08.846909Z"
    },
    "tags": []
   },
   "outputs": [
    {
     "data": {
      "application/vnd.jupyter.widget-view+json": {
       "model_id": "ce183f7fad4f4c1d81c829df9130200f",
       "version_major": 2,
       "version_minor": 0
      },
      "text/plain": [
       "VBox()"
      ]
     },
     "metadata": {},
     "output_type": "display_data"
    },
    {
     "data": {
      "application/vnd.jupyter.widget-view+json": {
       "model_id": "",
       "version_major": 2,
       "version_minor": 0
      },
      "text/plain": [
       "FloatProgress(value=0.0, bar_style='info', description='Progress:', layout=Layout(height='25px', width='50%'),…"
      ]
     },
     "metadata": {},
     "output_type": "display_data"
    }
   ],
   "source": [
    "config = configparser.ConfigParser()\n",
    "config.read('dl.cfg')\n",
    "\n",
    "os.environ['AWS_ACCESS_KEY_ID']=config['AWS']['AWS_ACCESS_KEY_ID']\n",
    "os.environ['AWS_SECRET_ACCESS_KEY']=config['AWS']['AWS_SECRET_ACCESS_KEY']"
   ]
  },
  {
   "cell_type": "code",
   "execution_count": 3,
   "id": "1de9bbae-d44a-41f8-8fed-188720524168",
   "metadata": {
    "execution": {
     "iopub.execute_input": "2022-09-29T11:15:42.366178Z",
     "iopub.status.busy": "2022-09-29T11:15:42.365839Z",
     "iopub.status.idle": "2022-09-29T11:15:42.628179Z",
     "shell.execute_reply": "2022-09-29T11:15:42.627244Z",
     "shell.execute_reply.started": "2022-09-29T11:15:42.366148Z"
    },
    "tags": []
   },
   "outputs": [
    {
     "data": {
      "application/vnd.jupyter.widget-view+json": {
       "model_id": "cd7e78249a0a47c3ae8a10bcbdade051",
       "version_major": 2,
       "version_minor": 0
      },
      "text/plain": [
       "VBox()"
      ]
     },
     "metadata": {},
     "output_type": "display_data"
    },
    {
     "data": {
      "application/vnd.jupyter.widget-view+json": {
       "model_id": "",
       "version_major": 2,
       "version_minor": 0
      },
      "text/plain": [
       "FloatProgress(value=0.0, bar_style='info', description='Progress:', layout=Layout(height='25px', width='50%'),…"
      ]
     },
     "metadata": {},
     "output_type": "display_data"
    }
   ],
   "source": [
    "def create_spark_session():\n",
    "    spark = SparkSession \\\n",
    "        .builder \\\n",
    "        .config(\"spark.jars.packages\", \"org.apache.hadoop:hadoop-aws:2.7.0\") \\\n",
    "        .getOrCreate()\n",
    "    return spark"
   ]
  },
  {
   "cell_type": "code",
   "execution_count": 4,
   "id": "a9c68544-85c7-4b98-b9f4-d076c118626c",
   "metadata": {
    "execution": {
     "iopub.execute_input": "2022-09-29T11:15:43.992408Z",
     "iopub.status.busy": "2022-09-29T11:15:43.992025Z",
     "iopub.status.idle": "2022-09-29T11:15:44.315119Z",
     "shell.execute_reply": "2022-09-29T11:15:44.314184Z",
     "shell.execute_reply.started": "2022-09-29T11:15:43.992374Z"
    },
    "tags": []
   },
   "outputs": [
    {
     "data": {
      "application/vnd.jupyter.widget-view+json": {
       "model_id": "fddc843149b649f8b7cf3473066ac1f0",
       "version_major": 2,
       "version_minor": 0
      },
      "text/plain": [
       "VBox()"
      ]
     },
     "metadata": {},
     "output_type": "display_data"
    },
    {
     "data": {
      "application/vnd.jupyter.widget-view+json": {
       "model_id": "",
       "version_major": 2,
       "version_minor": 0
      },
      "text/plain": [
       "FloatProgress(value=0.0, bar_style='info', description='Progress:', layout=Layout(height='25px', width='50%'),…"
      ]
     },
     "metadata": {},
     "output_type": "display_data"
    }
   ],
   "source": [
    "def process_song_data(spark, input_data, output_data):\n",
    "    \"\"\" Reading song data and create songs and artists table\n",
    "    \n",
    "        Arguments:\n",
    "            spark {object}: SparkSession object\n",
    "            input_data {object}: Source S3 endpoint\n",
    "            output_data {object}: Target S3 endpoint\n",
    "        Returns:\n",
    "            None\n",
    "    \"\"\"\n",
    "    # get filepath to song data file\n",
    "    song_data = input_data + \"song_data/*/*/*/\"\n",
    "    \n",
    "    # read song data file\n",
    "    df = spark.read.json(song_data)\n",
    "    df.count()\n",
    "\n",
    "    # extract columns to create songs table\n",
    "    songs_table = df.select([\"song_id\", \"title\", \"artist_id\", \"year\", \"duration\"]).distinct()\n",
    "    print(songs_table.show(5, False))\n",
    "    \n",
    "    # write songs table to parquet files partitioned by year and artist\n",
    " \n",
    "    songs_table.write.mode(\"overwrite\").parquet(output_data+'songs/'+'songs.parquet', partitionBy=['year','artist_id'])\n",
    "\n",
    "    # extract columns to create artists table\n",
    "    artists_table = df.select([\"artist_id\", \"artist_name\", \"artist_location\", \"artist_latitude\", \"artist_longitude\"]).distinct() \n",
    "    print(artists_table.show(5, truncate = False))\n",
    "    # write artists table to parquet files\n",
    " \n",
    "    artists_table.write.mode(\"overwrite\").parquet(output_data + 'artists/' + 'artists.parquet', partitionBy=['artist_id'] )\n"
   ]
  },
  {
   "cell_type": "code",
   "execution_count": 10,
   "id": "dee617c9-d649-4c2f-a5e5-ed8fa284a344",
   "metadata": {
    "execution": {
     "iopub.execute_input": "2022-09-29T11:22:05.329756Z",
     "iopub.status.busy": "2022-09-29T11:22:05.329271Z",
     "iopub.status.idle": "2022-09-29T11:22:05.838290Z",
     "shell.execute_reply": "2022-09-29T11:22:05.837299Z",
     "shell.execute_reply.started": "2022-09-29T11:22:05.329721Z"
    },
    "tags": []
   },
   "outputs": [
    {
     "data": {
      "application/vnd.jupyter.widget-view+json": {
       "model_id": "cd89d93f53864435accbe55effbca1e6",
       "version_major": 2,
       "version_minor": 0
      },
      "text/plain": [
       "VBox()"
      ]
     },
     "metadata": {},
     "output_type": "display_data"
    },
    {
     "data": {
      "application/vnd.jupyter.widget-view+json": {
       "model_id": "",
       "version_major": 2,
       "version_minor": 0
      },
      "text/plain": [
       "FloatProgress(value=0.0, bar_style='info', description='Progress:', layout=Layout(height='25px', width='50%'),…"
      ]
     },
     "metadata": {},
     "output_type": "display_data"
    }
   ],
   "source": [
    "def process_log_data(spark, input_data, output_data):\n",
    "    \"\"\" Reading log data and create songs and artists table\n",
    "    \n",
    "        Arguments:\n",
    "            spark {object}: SparkSession object\n",
    "            input_data {object}: Source S3 endpoint\n",
    "            output_data {object}: Target S3 endpoint\n",
    "        Returns:\n",
    "            None\n",
    "    \"\"\"\n",
    "    # get filepath to log data file\n",
    "    log_data =input_data + \"log_data/\"\n",
    "\n",
    "    # read log data file\n",
    "    log_df = spark.read.json(log_data)\n",
    "    print(log_df.show(2))\n",
    "    \n",
    "    # filter by actions for song plays\n",
    "    log_df = log_df.where(log_df['page'] == 'NextSong')\n",
    "    print(log_df.show(2))\n",
    "    \n",
    "    # extract columns for users table    \n",
    "    users_table = log_df.select('userId', 'firstName', 'lastName', 'gender', 'level').distinct()\n",
    "    print(users_table.show(5, truncate = False))\n",
    "    \n",
    "    # write users table to parquet files\n",
    "    users_table.write.mode(\"overwrite\").parquet(output_data + 'users/' + 'users.parquet', partitionBy = ['userId'])\n",
    "    \n",
    "    # create timestamp column from original timestamp column\n",
    "    log_df = log_df.withColumn('timestamp',( (log_df.ts.cast('float')/1000).cast(\"timestamp\")))\n",
    "    \n",
    "    # extract columns to create time table\n",
    "    time_table = log_df.select(\n",
    "                    F.col(\"timestamp\").alias(\"start_time\"),\n",
    "                    F.hour(\"timestamp\").alias('hour'),\n",
    "                    F.dayofmonth(\"timestamp\").alias('day'),\n",
    "                    F.weekofyear(\"timestamp\").alias('week'),\n",
    "                    F.month(\"timestamp\").alias('month'), \n",
    "                    F.year(\"timestamp\").alias('year'), \n",
    "                    F.date_format(F.col(\"timestamp\"), \"E\").alias(\"weekday\")\n",
    "                )\n",
    "\n",
    "\n",
    "    time_table.show(5, False)\n",
    "\n",
    "    # write time table to parquet files partitioned by year and month\n",
    "   \n",
    "    time_table.write.mode(\"overwrite\").parquet(output_data + 'time/' + 'time.parquet', partitionBy=['year','month'])\n",
    "\n",
    "\n",
    "    # read in song data to use for songplays table\n",
    "    song_df = spark.read.json(input_data + \"song_data/*/*/*/\")\n",
    "\n",
    "    # extract columns from joined song and log datasets to create songplays table \n",
    "    songplays_table = log_df.join(song_df, (log_df.song == song_df.title) & (log_df.artist == song_df.artist_name) & (log_df.length == song_df.duration), how='inner')\n",
    "    songplays_table = songplays_table.distinct() \\\n",
    "                        .select(\"userId\", \"timestamp\", \"song_id\", \"artist_id\", \"level\", \"sessionId\", \"location\", \"userAgent\" ) \\\n",
    "                        .withColumn(\"songplay_id\", F.row_number().over( Window.partitionBy('timestamp').orderBy(\"timestamp\"))) \\\n",
    "                        .withColumnRenamed(\"userId\",\"user_id\")        \\\n",
    "                        .withColumnRenamed(\"timestamp\",\"start_time\")  \\\n",
    "                        .withColumnRenamed(\"sessionId\",\"session_id\")  \\\n",
    "                        .withColumnRenamed(\"userAgent\", \"user_agent\") \\\n",
    "    # write songplays table to parquet files partitioned by year and month\n",
    "    print(songplays_table.show(5))\n",
    "    songplays_table.write.mode(\"overwrite\").parquet(output_data + 'songplays/' + 'songplays.parquet',partitionBy=['user_id'])\n"
   ]
  },
  {
   "cell_type": "code",
   "execution_count": 11,
   "id": "b3f7f874-3b6a-4194-95e6-32a0ee263542",
   "metadata": {
    "execution": {
     "iopub.execute_input": "2022-09-29T11:22:16.809981Z",
     "iopub.status.busy": "2022-09-29T11:22:16.809355Z",
     "iopub.status.idle": "2022-09-29T11:22:17.874779Z",
     "shell.execute_reply": "2022-09-29T11:22:17.873706Z",
     "shell.execute_reply.started": "2022-09-29T11:22:16.809949Z"
    },
    "tags": []
   },
   "outputs": [
    {
     "data": {
      "application/vnd.jupyter.widget-view+json": {
       "model_id": "0446785d6cc84b71a35f2ab03e4a1b73",
       "version_major": 2,
       "version_minor": 0
      },
      "text/plain": [
       "VBox()"
      ]
     },
     "metadata": {},
     "output_type": "display_data"
    },
    {
     "data": {
      "application/vnd.jupyter.widget-view+json": {
       "model_id": "",
       "version_major": 2,
       "version_minor": 0
      },
      "text/plain": [
       "FloatProgress(value=0.0, bar_style='info', description='Progress:', layout=Layout(height='25px', width='50%'),…"
      ]
     },
     "metadata": {},
     "output_type": "display_data"
    }
   ],
   "source": [
    "spark = create_spark_session()"
   ]
  },
  {
   "cell_type": "code",
   "execution_count": 12,
   "id": "01ac6f72-3d41-4e9b-b9c9-0b83156ed0fc",
   "metadata": {
    "execution": {
     "iopub.execute_input": "2022-09-29T11:22:41.938862Z",
     "iopub.status.busy": "2022-09-29T11:22:41.938533Z",
     "iopub.status.idle": "2022-09-29T11:22:42.228741Z",
     "shell.execute_reply": "2022-09-29T11:22:42.227765Z",
     "shell.execute_reply.started": "2022-09-29T11:22:41.938834Z"
    },
    "tags": []
   },
   "outputs": [
    {
     "data": {
      "application/vnd.jupyter.widget-view+json": {
       "model_id": "190d6fdec9a64d78a675012a65155294",
       "version_major": 2,
       "version_minor": 0
      },
      "text/plain": [
       "VBox()"
      ]
     },
     "metadata": {},
     "output_type": "display_data"
    },
    {
     "data": {
      "application/vnd.jupyter.widget-view+json": {
       "model_id": "",
       "version_major": 2,
       "version_minor": 0
      },
      "text/plain": [
       "FloatProgress(value=0.0, bar_style='info', description='Progress:', layout=Layout(height='25px', width='50%'),…"
      ]
     },
     "metadata": {},
     "output_type": "display_data"
    }
   ],
   "source": [
    "input_data = \"s3a://udacity-dend-dl-lake/\"\n",
    "output_data = \"s3a://sparkify-udacity-data-lake/\""
   ]
  },
  {
   "cell_type": "code",
   "execution_count": 13,
   "id": "fcf00d49-c026-4924-a910-4aeab9fbc3b1",
   "metadata": {
    "execution": {
     "iopub.execute_input": "2022-09-29T11:22:44.937322Z",
     "iopub.status.busy": "2022-09-29T11:22:44.936986Z",
     "iopub.status.idle": "2022-09-29T11:24:53.222642Z",
     "shell.execute_reply": "2022-09-29T11:24:53.221602Z",
     "shell.execute_reply.started": "2022-09-29T11:22:44.937293Z"
    },
    "tags": []
   },
   "outputs": [
    {
     "data": {
      "application/vnd.jupyter.widget-view+json": {
       "model_id": "b51a975204974d8e9e07018c1072ba0f",
       "version_major": 2,
       "version_minor": 0
      },
      "text/plain": [
       "VBox()"
      ]
     },
     "metadata": {},
     "output_type": "display_data"
    },
    {
     "data": {
      "application/vnd.jupyter.widget-view+json": {
       "model_id": "",
       "version_major": 2,
       "version_minor": 0
      },
      "text/plain": [
       "FloatProgress(value=0.0, bar_style='info', description='Progress:', layout=Layout(height='25px', width='50%'),…"
      ]
     },
     "metadata": {},
     "output_type": "display_data"
    },
    {
     "name": "stdout",
     "output_type": "stream",
     "text": [
      "+------------------+---------------------------------------------------+------------------+----+---------+\n",
      "|song_id           |title                                              |artist_id         |year|duration |\n",
      "+------------------+---------------------------------------------------+------------------+----+---------+\n",
      "|SOGOSOV12AF72A285E|¿Dónde va Chichi?                                  |ARGUVEV1187B98BA17|1997|313.12934|\n",
      "|SOTTDKS12AB018D69B|It Wont Be Christmas                               |ARMBR4Y1187B9990EB|0   |241.47546|\n",
      "|SOBBUGU12A8C13E95D|Setting Fire to Sleeping Giants                    |ARMAC4T1187FB3FA4C|2004|207.77751|\n",
      "|SOIAZJW12AB01853F1|Pink World                                         |AR8ZCNI1187B9A069B|1984|269.81832|\n",
      "|SONYPOM12A8C13B2D7|I Think My Wife Is Running Around On Me (Taco Hell)|ARDNS031187B9924F0|2005|186.48771|\n",
      "+------------------+---------------------------------------------------+------------------+----+---------+\n",
      "only showing top 5 rows\n",
      "\n",
      "None\n",
      "+------------------+---------------+---------------+---------------+----------------+\n",
      "|artist_id         |artist_name    |artist_location|artist_latitude|artist_longitude|\n",
      "+------------------+---------------+---------------+---------------+----------------+\n",
      "|AR3JMC51187B9AE49D|Backstreet Boys|Orlando, FL    |28.53823       |-81.37739       |\n",
      "|AR0IAWL1187B9A96D0|Danilo Perez   |Panama         |8.4177         |-80.11278       |\n",
      "|ARWB3G61187FB49404|Steve Morse    |Hamilton, Ohio |null           |null            |\n",
      "|AR47JEX1187B995D81|SUE THOMPSON   |Nevada, MO     |37.83721       |-94.35868       |\n",
      "|ARHHO3O1187B989413|Bob Azzam      |               |null           |null            |\n",
      "+------------------+---------------+---------------+---------------+----------------+\n",
      "only showing top 5 rows\n",
      "\n",
      "None"
     ]
    }
   ],
   "source": [
    "process_song_data(spark, input_data, output_data)    "
   ]
  },
  {
   "cell_type": "code",
   "execution_count": 14,
   "id": "537be3f7-d868-4c5b-910a-4bb359ddbfc4",
   "metadata": {
    "execution": {
     "iopub.execute_input": "2022-09-29T11:24:53.226244Z",
     "iopub.status.busy": "2022-09-29T11:24:53.225638Z",
     "iopub.status.idle": "2022-09-29T11:26:25.234216Z",
     "shell.execute_reply": "2022-09-29T11:26:25.232896Z",
     "shell.execute_reply.started": "2022-09-29T11:24:53.226200Z"
    },
    "tags": []
   },
   "outputs": [
    {
     "data": {
      "application/vnd.jupyter.widget-view+json": {
       "model_id": "34bc28c6600a497d86fdb2b715ae5c7a",
       "version_major": 2,
       "version_minor": 0
      },
      "text/plain": [
       "VBox()"
      ]
     },
     "metadata": {},
     "output_type": "display_data"
    },
    {
     "data": {
      "application/vnd.jupyter.widget-view+json": {
       "model_id": "",
       "version_major": 2,
       "version_minor": 0
      },
      "text/plain": [
       "FloatProgress(value=0.0, bar_style='info', description='Progress:', layout=Layout(height='25px', width='50%'),…"
      ]
     },
     "metadata": {},
     "output_type": "display_data"
    },
    {
     "name": "stdout",
     "output_type": "stream",
     "text": [
      "+-----------+---------+---------+------+-------------+--------+---------+-----+--------------------+------+--------+-----------------+---------+---------------+------+-------------+--------------------+------+\n",
      "|     artist|     auth|firstName|gender|itemInSession|lastName|   length|level|            location|method|    page|     registration|sessionId|           song|status|           ts|           userAgent|userId|\n",
      "+-----------+---------+---------+------+-------------+--------+---------+-----+--------------------+------+--------+-----------------+---------+---------------+------+-------------+--------------------+------+\n",
      "|   Harmonia|Logged In|     Ryan|     M|            0|   Smith|655.77751| free|San Jose-Sunnyval...|   PUT|NextSong|1.541016707796E12|      583|  Sehr kosmisch|   200|1542241826796|\"Mozilla/5.0 (X11...|    26|\n",
      "|The Prodigy|Logged In|     Ryan|     M|            1|   Smith|260.07465| free|San Jose-Sunnyval...|   PUT|NextSong|1.541016707796E12|      583|The Big Gundown|   200|1542242481796|\"Mozilla/5.0 (X11...|    26|\n",
      "+-----------+---------+---------+------+-------------+--------+---------+-----+--------------------+------+--------+-----------------+---------+---------------+------+-------------+--------------------+------+\n",
      "only showing top 2 rows\n",
      "\n",
      "None\n",
      "+-----------+---------+---------+------+-------------+--------+---------+-----+--------------------+------+--------+-----------------+---------+---------------+------+-------------+--------------------+------+\n",
      "|     artist|     auth|firstName|gender|itemInSession|lastName|   length|level|            location|method|    page|     registration|sessionId|           song|status|           ts|           userAgent|userId|\n",
      "+-----------+---------+---------+------+-------------+--------+---------+-----+--------------------+------+--------+-----------------+---------+---------------+------+-------------+--------------------+------+\n",
      "|   Harmonia|Logged In|     Ryan|     M|            0|   Smith|655.77751| free|San Jose-Sunnyval...|   PUT|NextSong|1.541016707796E12|      583|  Sehr kosmisch|   200|1542241826796|\"Mozilla/5.0 (X11...|    26|\n",
      "|The Prodigy|Logged In|     Ryan|     M|            1|   Smith|260.07465| free|San Jose-Sunnyval...|   PUT|NextSong|1.541016707796E12|      583|The Big Gundown|   200|1542242481796|\"Mozilla/5.0 (X11...|    26|\n",
      "+-----------+---------+---------+------+-------------+--------+---------+-----+--------------------+------+--------+-----------------+---------+---------------+------+-------------+--------------------+------+\n",
      "only showing top 2 rows\n",
      "\n",
      "None\n",
      "+------+---------+--------+------+-----+\n",
      "|userId|firstName|lastName|gender|level|\n",
      "+------+---------+--------+------+-----+\n",
      "|57    |Katherine|Gay     |F     |free |\n",
      "|84    |Shakira  |Hunt    |F     |free |\n",
      "|22    |Sean     |Wilson  |F     |free |\n",
      "|52    |Theodore |Smith   |M     |free |\n",
      "|80    |Tegan    |Levine  |F     |paid |\n",
      "+------+---------+--------+------+-----+\n",
      "only showing top 5 rows\n",
      "\n",
      "None\n",
      "+-----------------------+----+---+----+-----+----+-------+\n",
      "|start_time             |hour|day|week|month|year|weekday|\n",
      "+-----------------------+----+---+----+-----+----+-------+\n",
      "|2018-11-15 00:29:39.712|0   |15 |46  |11   |2018|Thu    |\n",
      "|2018-11-15 00:40:35.072|0   |15 |46  |11   |2018|Thu    |\n",
      "|2018-11-15 00:44:57.216|0   |15 |46  |11   |2018|Thu    |\n",
      "|2018-11-15 03:44:05.12 |3   |15 |46  |11   |2018|Thu    |\n",
      "|2018-11-15 05:48:36.224|5   |15 |46  |11   |2018|Thu    |\n",
      "+-----------------------+----+---+----+-----+----+-------+\n",
      "only showing top 5 rows\n",
      "\n",
      "+-------+--------------------+------------------+------------------+-----+----------+--------------------+--------------------+-----------+\n",
      "|user_id|          start_time|           song_id|         artist_id|level|session_id|            location|          user_agent|songplay_id|\n",
      "+-------+--------------------+------------------+------------------+-----+----------+--------------------+--------------------+-----------+\n",
      "|     15|2018-11-21 21:56:...|SOZCTXZ12AB0182364|AR5KOSW1187FB35FF4| paid|       818|Chicago-Napervill...|\"Mozilla/5.0 (X11...|          1|\n",
      "+-------+--------------------+------------------+------------------+-----+----------+--------------------+--------------------+-----------+\n",
      "\n",
      "None"
     ]
    }
   ],
   "source": [
    "process_log_data(spark, input_data, output_data)"
   ]
  },
  {
   "cell_type": "code",
   "execution_count": null,
   "id": "6afee5b9-32a6-42cd-bfa1-cebe50aa78d2",
   "metadata": {},
   "outputs": [],
   "source": []
  }
 ],
 "metadata": {
  "kernelspec": {
   "display_name": "PySpark",
   "language": "",
   "name": "pysparkkernel"
  },
  "language_info": {
   "codemirror_mode": {
    "name": "python",
    "version": 2
   },
   "mimetype": "text/x-python",
   "name": "pyspark",
   "pygments_lexer": "python2"
  }
 },
 "nbformat": 4,
 "nbformat_minor": 5
}
